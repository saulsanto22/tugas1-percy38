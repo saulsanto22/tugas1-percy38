{
 "cells": [
  {
   "cell_type": "code",
   "execution_count": 1,
   "id": "ad36135f",
   "metadata": {},
   "outputs": [
    {
     "name": "stdout",
     "output_type": "stream",
     "text": [
      "Hello World\n"
     ]
    }
   ],
   "source": [
    "# 1 . home\n",
    "print(\"Hello World\")"
   ]
  },
  {
   "cell_type": "code",
   "execution_count": 10,
   "id": "47b646ec",
   "metadata": {},
   "outputs": [
    {
     "name": "stdout",
     "output_type": "stream",
     "text": [
      "5\n",
      "Saul Santo Anju\n",
      "Nama kamu Udin Sedunia\n",
      "nama mu? awesome\n"
     ]
    }
   ],
   "source": [
    "# variable \n",
    "x = 5\n",
    "namaLengkap = \"Saul Santo Anju\"\n",
    "print(x)\n",
    "print(namaLengkap)\n",
    "\n",
    "# globa var\n",
    "x = \"awesome\"\n",
    "\n",
    "def cetakNama():\n",
    "  x = \"Udin Sedunia\"\n",
    "  print(\"Nama kamu \" + x)\n",
    "\n",
    "cetakNama()\n",
    "\n",
    "print(\"nama mu? \" + x)"
   ]
  },
  {
   "cell_type": "code",
   "execution_count": 3,
   "id": "b560aaef",
   "metadata": {},
   "outputs": [
    {
     "name": "stdout",
     "output_type": "stream",
     "text": [
      "<class 'int'>\n"
     ]
    }
   ],
   "source": [
    "# data type \n",
    "\n",
    "x = 5 \n",
    "a = type(x)\n",
    "print(a)"
   ]
  },
  {
   "cell_type": "code",
   "execution_count": 4,
   "id": "3d194ca6",
   "metadata": {},
   "outputs": [
    {
     "name": "stdout",
     "output_type": "stream",
     "text": [
      "<class 'float'>\n",
      "<class 'float'>\n",
      "<class 'float'>\n"
     ]
    }
   ],
   "source": [
    "#  python number\n",
    "x = 35e3\n",
    "y = 12E4\n",
    "z = -87.7e100\n",
    "\n",
    "print(type(x))\n",
    "print(type(y))\n",
    "print(type(z))"
   ]
  },
  {
   "cell_type": "code",
   "execution_count": 8,
   "id": "a0c57554",
   "metadata": {
    "scrolled": false
   },
   "outputs": [
    {
     "name": "stdout",
     "output_type": "stream",
     "text": [
      "2\n",
      "2.0\n",
      "1\n"
     ]
    }
   ],
   "source": [
    "# python casting\n",
    "a = int(2.3)\n",
    "b = float(2)\n",
    "c = str(\"1\")\n",
    "\n",
    "\n",
    "print(a)\n",
    "print(b)\n",
    "print(c)"
   ]
  },
  {
   "cell_type": "code",
   "execution_count": null,
   "id": "8b11e479",
   "metadata": {},
   "outputs": [],
   "source": [
    "# casting\n",
    "x = float(1)     \n",
    "y = float(2.8)   \n",
    "z = float(\"3\")   \n",
    "w = float(\"4.2\") "
   ]
  },
  {
   "cell_type": "code",
   "execution_count": null,
   "id": "1cff0be4",
   "metadata": {},
   "outputs": [],
   "source": [
    "# string\n",
    "\n",
    "\n",
    "print('2022')\n",
    "print(\"2022\")\n",
    "\n",
    "a =\"Hallo Bumi!\"\n",
    "print(a)\n"
   ]
  },
  {
   "cell_type": "code",
   "execution_count": 13,
   "id": "9997dcf6",
   "metadata": {},
   "outputs": [
    {
     "name": "stdout",
     "output_type": "stream",
     "text": [
      "True\n",
      "False\n",
      "False\n"
     ]
    }
   ],
   "source": [
    "# bool == TRUE DAN FALSE / 1 DAN 0\n",
    "a = 2\n",
    "b = 12\n",
    "\n",
    "print(b % a == 0 )\n",
    "print(a % b == 0)\n"
   ]
  },
  {
   "cell_type": "code",
   "execution_count": null,
   "id": "26524920",
   "metadata": {},
   "outputs": [],
   "source": [
    "# operasi aritmatika python\n",
    "print(10 + 5)\n",
    "print(10 - 5)\n",
    "print(10 / 5)\n",
    "print(10 * 5)\n",
    "print(10 % 5)"
   ]
  },
  {
   "cell_type": "code",
   "execution_count": null,
   "id": "3ed735dc",
   "metadata": {},
   "outputs": [],
   "source": [
    "# lists\n",
    "mylist = [\"apple\", \"banana\", \"cherry\"]\n"
   ]
  },
  {
   "cell_type": "code",
   "execution_count": null,
   "id": "94d84719",
   "metadata": {},
   "outputs": [],
   "source": [
    "# tuples\n",
    "mytuple = (\"apple\", \"banana\", \"cherry\")"
   ]
  },
  {
   "cell_type": "code",
   "execution_count": null,
   "id": "5736847c",
   "metadata": {},
   "outputs": [],
   "source": [
    "# set\n",
    "buah = {\"apple\", \"banana\", \"cherry\"}\n",
    "\n",
    "print(buah)"
   ]
  },
  {
   "cell_type": "code",
   "execution_count": null,
   "id": "b52ec939",
   "metadata": {},
   "outputs": [],
   "source": [
    "# kamus\n",
    "thisdict = {\n",
    "  \"brand\": \"Ford\",\n",
    "  \"model\": \"Mustang\",\n",
    "  \"year\": 1964\n",
    "}\n",
    "\n",
    "thisdict = {\n",
    "  \"brand\": \"Ford\",\n",
    "  \"model\": \"Mustang\",\n",
    "  \"year\": 1964\n",
    "}\n",
    "print(thisdict)\n",
    "\n",
    "\n",
    "thisdict = {  \n",
    "  \"brand\": \"Ford\",\n",
    "  \"model\": \"Mustang\",\n",
    "  \"year\": 1964\n",
    "}\n",
    "\n",
    "# ambil salah satu item\n",
    "print(thisdict[\"brand\"]) "
   ]
  }
 ],
 "metadata": {
  "kernelspec": {
   "display_name": "Python 3 (ipykernel)",
   "language": "python",
   "name": "python3"
  },
  "language_info": {
   "codemirror_mode": {
    "name": "ipython",
    "version": 3
   },
   "file_extension": ".py",
   "mimetype": "text/x-python",
   "name": "python",
   "nbconvert_exporter": "python",
   "pygments_lexer": "ipython3",
   "version": "3.9.7"
  }
 },
 "nbformat": 4,
 "nbformat_minor": 5
}
